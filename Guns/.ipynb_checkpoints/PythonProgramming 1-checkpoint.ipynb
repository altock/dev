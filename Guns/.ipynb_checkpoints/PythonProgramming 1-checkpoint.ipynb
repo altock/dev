{
 "cells": [
  {
   "cell_type": "code",
   "execution_count": 100,
   "metadata": {
    "collapsed": true
   },
   "outputs": [],
   "source": [
    "import pandas as pd\n",
    "import pickle\n",
    "import Quandl, math, datetime\n",
    "import numpy as np\n",
    "from sklearn import preprocessing, cross_validation, svm\n",
    "from sklearn.linear_model import LinearRegression\n",
    "import matplotlib.pyplot as plt\n",
    "from matplotlib import style\n",
    "%matplotlib inline\n",
    "\n",
    "style.use('ggplot')"
   ]
  },
  {
   "cell_type": "code",
   "execution_count": 101,
   "metadata": {
    "collapsed": true
   },
   "outputs": [],
   "source": [
    "df = Quandl.get('WIKI/GOOGL')"
   ]
  },
  {
   "cell_type": "code",
   "execution_count": 102,
   "metadata": {
    "collapsed": false
   },
   "outputs": [
    {
     "data": {
      "text/html": [
       "<div>\n",
       "<table border=\"1\" class=\"dataframe\">\n",
       "  <thead>\n",
       "    <tr style=\"text-align: right;\">\n",
       "      <th></th>\n",
       "      <th>Open</th>\n",
       "      <th>High</th>\n",
       "      <th>Low</th>\n",
       "      <th>Close</th>\n",
       "      <th>Volume</th>\n",
       "      <th>Ex-Dividend</th>\n",
       "      <th>Split Ratio</th>\n",
       "      <th>Adj. Open</th>\n",
       "      <th>Adj. High</th>\n",
       "      <th>Adj. Low</th>\n",
       "      <th>Adj. Close</th>\n",
       "      <th>Adj. Volume</th>\n",
       "    </tr>\n",
       "    <tr>\n",
       "      <th>Date</th>\n",
       "      <th></th>\n",
       "      <th></th>\n",
       "      <th></th>\n",
       "      <th></th>\n",
       "      <th></th>\n",
       "      <th></th>\n",
       "      <th></th>\n",
       "      <th></th>\n",
       "      <th></th>\n",
       "      <th></th>\n",
       "      <th></th>\n",
       "      <th></th>\n",
       "    </tr>\n",
       "  </thead>\n",
       "  <tbody>\n",
       "    <tr>\n",
       "      <th>2004-08-19</th>\n",
       "      <td>100.00</td>\n",
       "      <td>104.06</td>\n",
       "      <td>95.96</td>\n",
       "      <td>100.34</td>\n",
       "      <td>44659000.0</td>\n",
       "      <td>0.0</td>\n",
       "      <td>1.0</td>\n",
       "      <td>50.000</td>\n",
       "      <td>52.03</td>\n",
       "      <td>47.980</td>\n",
       "      <td>50.170</td>\n",
       "      <td>44659000.0</td>\n",
       "    </tr>\n",
       "    <tr>\n",
       "      <th>2004-08-20</th>\n",
       "      <td>101.01</td>\n",
       "      <td>109.08</td>\n",
       "      <td>100.50</td>\n",
       "      <td>108.31</td>\n",
       "      <td>22834300.0</td>\n",
       "      <td>0.0</td>\n",
       "      <td>1.0</td>\n",
       "      <td>50.505</td>\n",
       "      <td>54.54</td>\n",
       "      <td>50.250</td>\n",
       "      <td>54.155</td>\n",
       "      <td>22834300.0</td>\n",
       "    </tr>\n",
       "    <tr>\n",
       "      <th>2004-08-23</th>\n",
       "      <td>110.75</td>\n",
       "      <td>113.48</td>\n",
       "      <td>109.05</td>\n",
       "      <td>109.40</td>\n",
       "      <td>18256100.0</td>\n",
       "      <td>0.0</td>\n",
       "      <td>1.0</td>\n",
       "      <td>55.375</td>\n",
       "      <td>56.74</td>\n",
       "      <td>54.525</td>\n",
       "      <td>54.700</td>\n",
       "      <td>18256100.0</td>\n",
       "    </tr>\n",
       "    <tr>\n",
       "      <th>2004-08-24</th>\n",
       "      <td>111.24</td>\n",
       "      <td>111.60</td>\n",
       "      <td>103.57</td>\n",
       "      <td>104.87</td>\n",
       "      <td>15247300.0</td>\n",
       "      <td>0.0</td>\n",
       "      <td>1.0</td>\n",
       "      <td>55.620</td>\n",
       "      <td>55.80</td>\n",
       "      <td>51.785</td>\n",
       "      <td>52.435</td>\n",
       "      <td>15247300.0</td>\n",
       "    </tr>\n",
       "    <tr>\n",
       "      <th>2004-08-25</th>\n",
       "      <td>104.96</td>\n",
       "      <td>108.00</td>\n",
       "      <td>103.88</td>\n",
       "      <td>106.00</td>\n",
       "      <td>9188600.0</td>\n",
       "      <td>0.0</td>\n",
       "      <td>1.0</td>\n",
       "      <td>52.480</td>\n",
       "      <td>54.00</td>\n",
       "      <td>51.940</td>\n",
       "      <td>53.000</td>\n",
       "      <td>9188600.0</td>\n",
       "    </tr>\n",
       "  </tbody>\n",
       "</table>\n",
       "</div>"
      ],
      "text/plain": [
       "              Open    High     Low   Close      Volume  Ex-Dividend  \\\n",
       "Date                                                                  \n",
       "2004-08-19  100.00  104.06   95.96  100.34  44659000.0          0.0   \n",
       "2004-08-20  101.01  109.08  100.50  108.31  22834300.0          0.0   \n",
       "2004-08-23  110.75  113.48  109.05  109.40  18256100.0          0.0   \n",
       "2004-08-24  111.24  111.60  103.57  104.87  15247300.0          0.0   \n",
       "2004-08-25  104.96  108.00  103.88  106.00   9188600.0          0.0   \n",
       "\n",
       "            Split Ratio  Adj. Open  Adj. High  Adj. Low  Adj. Close  \\\n",
       "Date                                                                  \n",
       "2004-08-19          1.0     50.000      52.03    47.980      50.170   \n",
       "2004-08-20          1.0     50.505      54.54    50.250      54.155   \n",
       "2004-08-23          1.0     55.375      56.74    54.525      54.700   \n",
       "2004-08-24          1.0     55.620      55.80    51.785      52.435   \n",
       "2004-08-25          1.0     52.480      54.00    51.940      53.000   \n",
       "\n",
       "            Adj. Volume  \n",
       "Date                     \n",
       "2004-08-19   44659000.0  \n",
       "2004-08-20   22834300.0  \n",
       "2004-08-23   18256100.0  \n",
       "2004-08-24   15247300.0  \n",
       "2004-08-25    9188600.0  "
      ]
     },
     "execution_count": 102,
     "metadata": {},
     "output_type": "execute_result"
    }
   ],
   "source": [
    "df.head()"
   ]
  },
  {
   "cell_type": "code",
   "execution_count": 103,
   "metadata": {
    "collapsed": true
   },
   "outputs": [],
   "source": [
    "df = df[['Adj. Open','Adj. Close','Adj. High','Adj. Low','Adj. Volume' ]]"
   ]
  },
  {
   "cell_type": "code",
   "execution_count": 104,
   "metadata": {
    "collapsed": false
   },
   "outputs": [],
   "source": [
    "df['HL_PCT'] = (df['Adj. High'] - df['Adj. Low'])/ df['Adj. Close'] * 100.0"
   ]
  },
  {
   "cell_type": "code",
   "execution_count": 105,
   "metadata": {
    "collapsed": false
   },
   "outputs": [],
   "source": [
    "df['PCT_Change'] = (df['Adj. Close'] - df['Adj. Open'])/ df['Adj. Open'] * 100.0"
   ]
  },
  {
   "cell_type": "code",
   "execution_count": 106,
   "metadata": {
    "collapsed": false
   },
   "outputs": [
    {
     "data": {
      "text/html": [
       "<div>\n",
       "<table border=\"1\" class=\"dataframe\">\n",
       "  <thead>\n",
       "    <tr style=\"text-align: right;\">\n",
       "      <th></th>\n",
       "      <th>Adj. Close</th>\n",
       "      <th>HL_PCT</th>\n",
       "      <th>PCT_Change</th>\n",
       "      <th>Adj. Volume</th>\n",
       "    </tr>\n",
       "    <tr>\n",
       "      <th>Date</th>\n",
       "      <th></th>\n",
       "      <th></th>\n",
       "      <th></th>\n",
       "      <th></th>\n",
       "    </tr>\n",
       "  </thead>\n",
       "  <tbody>\n",
       "    <tr>\n",
       "      <th>2004-08-19</th>\n",
       "      <td>50.170</td>\n",
       "      <td>8.072553</td>\n",
       "      <td>0.340000</td>\n",
       "      <td>44659000.0</td>\n",
       "    </tr>\n",
       "    <tr>\n",
       "      <th>2004-08-20</th>\n",
       "      <td>54.155</td>\n",
       "      <td>7.921706</td>\n",
       "      <td>7.227007</td>\n",
       "      <td>22834300.0</td>\n",
       "    </tr>\n",
       "    <tr>\n",
       "      <th>2004-08-23</th>\n",
       "      <td>54.700</td>\n",
       "      <td>4.049360</td>\n",
       "      <td>-1.218962</td>\n",
       "      <td>18256100.0</td>\n",
       "    </tr>\n",
       "    <tr>\n",
       "      <th>2004-08-24</th>\n",
       "      <td>52.435</td>\n",
       "      <td>7.657099</td>\n",
       "      <td>-5.726357</td>\n",
       "      <td>15247300.0</td>\n",
       "    </tr>\n",
       "    <tr>\n",
       "      <th>2004-08-25</th>\n",
       "      <td>53.000</td>\n",
       "      <td>3.886792</td>\n",
       "      <td>0.990854</td>\n",
       "      <td>9188600.0</td>\n",
       "    </tr>\n",
       "  </tbody>\n",
       "</table>\n",
       "</div>"
      ],
      "text/plain": [
       "            Adj. Close    HL_PCT  PCT_Change  Adj. Volume\n",
       "Date                                                     \n",
       "2004-08-19      50.170  8.072553    0.340000   44659000.0\n",
       "2004-08-20      54.155  7.921706    7.227007   22834300.0\n",
       "2004-08-23      54.700  4.049360   -1.218962   18256100.0\n",
       "2004-08-24      52.435  7.657099   -5.726357   15247300.0\n",
       "2004-08-25      53.000  3.886792    0.990854    9188600.0"
      ]
     },
     "execution_count": 106,
     "metadata": {},
     "output_type": "execute_result"
    }
   ],
   "source": [
    "df = df[['Adj. Close', 'HL_PCT', 'PCT_Change', 'Adj. Volume']]\n",
    "df.head()"
   ]
  },
  {
   "cell_type": "code",
   "execution_count": 107,
   "metadata": {
    "collapsed": true
   },
   "outputs": [],
   "source": [
    "forecast_col = 'Adj. Close'"
   ]
  },
  {
   "cell_type": "code",
   "execution_count": 108,
   "metadata": {
    "collapsed": false
   },
   "outputs": [],
   "source": [
    "df.is_copy = False\n",
    "\n",
    "# df.fillna(-99999.0,inplace=True)"
   ]
  },
  {
   "cell_type": "code",
   "execution_count": 109,
   "metadata": {
    "collapsed": false
   },
   "outputs": [
    {
     "data": {
      "text/html": [
       "<div>\n",
       "<table border=\"1\" class=\"dataframe\">\n",
       "  <thead>\n",
       "    <tr style=\"text-align: right;\">\n",
       "      <th></th>\n",
       "      <th>Adj. Close</th>\n",
       "      <th>HL_PCT</th>\n",
       "      <th>PCT_Change</th>\n",
       "      <th>Adj. Volume</th>\n",
       "    </tr>\n",
       "  </thead>\n",
       "  <tbody>\n",
       "    <tr>\n",
       "      <th>count</th>\n",
       "      <td>3013.000000</td>\n",
       "      <td>3013.000000</td>\n",
       "      <td>3013.000000</td>\n",
       "      <td>3.013000e+03</td>\n",
       "    </tr>\n",
       "    <tr>\n",
       "      <th>mean</th>\n",
       "      <td>338.495570</td>\n",
       "      <td>2.207480</td>\n",
       "      <td>-0.023546</td>\n",
       "      <td>8.643453e+06</td>\n",
       "    </tr>\n",
       "    <tr>\n",
       "      <th>std</th>\n",
       "      <td>180.348101</td>\n",
       "      <td>1.421652</td>\n",
       "      <td>1.561097</td>\n",
       "      <td>8.458314e+06</td>\n",
       "    </tr>\n",
       "    <tr>\n",
       "      <th>min</th>\n",
       "      <td>50.005000</td>\n",
       "      <td>0.000000</td>\n",
       "      <td>-9.179757</td>\n",
       "      <td>5.211410e+05</td>\n",
       "    </tr>\n",
       "    <tr>\n",
       "      <th>25%</th>\n",
       "      <td>218.275000</td>\n",
       "      <td>1.306996</td>\n",
       "      <td>-0.802184</td>\n",
       "      <td>3.441300e+06</td>\n",
       "    </tr>\n",
       "    <tr>\n",
       "      <th>50%</th>\n",
       "      <td>283.635000</td>\n",
       "      <td>1.845873</td>\n",
       "      <td>-0.026310</td>\n",
       "      <td>5.881300e+06</td>\n",
       "    </tr>\n",
       "    <tr>\n",
       "      <th>75%</th>\n",
       "      <td>443.420000</td>\n",
       "      <td>2.633457</td>\n",
       "      <td>0.796331</td>\n",
       "      <td>1.135140e+07</td>\n",
       "    </tr>\n",
       "    <tr>\n",
       "      <th>max</th>\n",
       "      <td>808.490000</td>\n",
       "      <td>16.278749</td>\n",
       "      <td>8.759770</td>\n",
       "      <td>8.215110e+07</td>\n",
       "    </tr>\n",
       "  </tbody>\n",
       "</table>\n",
       "</div>"
      ],
      "text/plain": [
       "        Adj. Close       HL_PCT   PCT_Change   Adj. Volume\n",
       "count  3013.000000  3013.000000  3013.000000  3.013000e+03\n",
       "mean    338.495570     2.207480    -0.023546  8.643453e+06\n",
       "std     180.348101     1.421652     1.561097  8.458314e+06\n",
       "min      50.005000     0.000000    -9.179757  5.211410e+05\n",
       "25%     218.275000     1.306996    -0.802184  3.441300e+06\n",
       "50%     283.635000     1.845873    -0.026310  5.881300e+06\n",
       "75%     443.420000     2.633457     0.796331  1.135140e+07\n",
       "max     808.490000    16.278749     8.759770  8.215110e+07"
      ]
     },
     "execution_count": 109,
     "metadata": {},
     "output_type": "execute_result"
    }
   ],
   "source": [
    "df.describe()"
   ]
  },
  {
   "cell_type": "code",
   "execution_count": 110,
   "metadata": {
    "collapsed": false
   },
   "outputs": [],
   "source": [
    "forecast_out = int(math.ceil(0.01*len(df)))"
   ]
  },
  {
   "cell_type": "code",
   "execution_count": 111,
   "metadata": {
    "collapsed": true
   },
   "outputs": [],
   "source": [
    "df['label'] = df[forecast_col].shift(-forecast_out)"
   ]
  },
  {
   "cell_type": "code",
   "execution_count": 112,
   "metadata": {
    "collapsed": false
   },
   "outputs": [],
   "source": [
    "\n",
    "df['Adj. Volume'] = (df['Adj. Volume'] - df['Adj. Volume'].mean()) / df['Adj. Volume'].mean()"
   ]
  },
  {
   "cell_type": "code",
   "execution_count": 113,
   "metadata": {
    "collapsed": false
   },
   "outputs": [
    {
     "data": {
      "text/html": [
       "<div>\n",
       "<table border=\"1\" class=\"dataframe\">\n",
       "  <thead>\n",
       "    <tr style=\"text-align: right;\">\n",
       "      <th></th>\n",
       "      <th>Adj. Close</th>\n",
       "      <th>HL_PCT</th>\n",
       "      <th>PCT_Change</th>\n",
       "      <th>Adj. Volume</th>\n",
       "      <th>label</th>\n",
       "    </tr>\n",
       "    <tr>\n",
       "      <th>Date</th>\n",
       "      <th></th>\n",
       "      <th></th>\n",
       "      <th></th>\n",
       "      <th></th>\n",
       "      <th></th>\n",
       "    </tr>\n",
       "  </thead>\n",
       "  <tbody>\n",
       "    <tr>\n",
       "      <th>2004-08-19</th>\n",
       "      <td>50.170</td>\n",
       "      <td>8.072553</td>\n",
       "      <td>0.340000</td>\n",
       "      <td>4.166801</td>\n",
       "      <td>67.530</td>\n",
       "    </tr>\n",
       "    <tr>\n",
       "      <th>2004-08-20</th>\n",
       "      <td>54.155</td>\n",
       "      <td>7.921706</td>\n",
       "      <td>7.227007</td>\n",
       "      <td>1.641803</td>\n",
       "      <td>69.185</td>\n",
       "    </tr>\n",
       "    <tr>\n",
       "      <th>2004-08-23</th>\n",
       "      <td>54.700</td>\n",
       "      <td>4.049360</td>\n",
       "      <td>-1.218962</td>\n",
       "      <td>1.112130</td>\n",
       "      <td>68.540</td>\n",
       "    </tr>\n",
       "    <tr>\n",
       "      <th>2004-08-24</th>\n",
       "      <td>52.435</td>\n",
       "      <td>7.657099</td>\n",
       "      <td>-5.726357</td>\n",
       "      <td>0.764029</td>\n",
       "      <td>69.425</td>\n",
       "    </tr>\n",
       "    <tr>\n",
       "      <th>2004-08-25</th>\n",
       "      <td>53.000</td>\n",
       "      <td>3.886792</td>\n",
       "      <td>0.990854</td>\n",
       "      <td>0.063070</td>\n",
       "      <td>68.865</td>\n",
       "    </tr>\n",
       "  </tbody>\n",
       "</table>\n",
       "</div>"
      ],
      "text/plain": [
       "            Adj. Close    HL_PCT  PCT_Change  Adj. Volume   label\n",
       "Date                                                             \n",
       "2004-08-19      50.170  8.072553    0.340000     4.166801  67.530\n",
       "2004-08-20      54.155  7.921706    7.227007     1.641803  69.185\n",
       "2004-08-23      54.700  4.049360   -1.218962     1.112130  68.540\n",
       "2004-08-24      52.435  7.657099   -5.726357     0.764029  69.425\n",
       "2004-08-25      53.000  3.886792    0.990854     0.063070  68.865"
      ]
     },
     "execution_count": 113,
     "metadata": {},
     "output_type": "execute_result"
    }
   ],
   "source": [
    "\n",
    "X = np.array(df.drop(['label'],1))#.as_matrix().astype(float)\n",
    "X = preprocessing.scale(X)\n",
    "X_lately = X[-forecast_out:]\n",
    "X = X[:-forecast_out]\n",
    "\n",
    "\n",
    "df.dropna(inplace=True)\n",
    "y = np.array(df['label'])\n",
    "df.head()"
   ]
  },
  {
   "cell_type": "code",
   "execution_count": null,
   "metadata": {
    "collapsed": false
   },
   "outputs": [],
   "source": []
  },
  {
   "cell_type": "code",
   "execution_count": 114,
   "metadata": {
    "collapsed": false
   },
   "outputs": [
    {
     "data": {
      "text/plain": [
       "((2982, 4), (2982,))"
      ]
     },
     "execution_count": 114,
     "metadata": {},
     "output_type": "execute_result"
    }
   ],
   "source": [
    "X.shape, y.shape"
   ]
  },
  {
   "cell_type": "code",
   "execution_count": 115,
   "metadata": {
    "collapsed": false
   },
   "outputs": [],
   "source": [
    "X_train, X_test, y_train, y_test = cross_validation.train_test_split(X,y,test_size=0.2)"
   ]
  },
  {
   "cell_type": "code",
   "execution_count": 116,
   "metadata": {
    "collapsed": false
   },
   "outputs": [],
   "source": [
    "pickle_in = open('linearregression.pickle','rb')\n",
    "clf = pickle.load(pickle_in)\n",
    "\n",
    "# clf = LinearRegression(n_jobs = -1)\n",
    "# clf.fit(X_train, y_train)"
   ]
  },
  {
   "cell_type": "code",
   "execution_count": 117,
   "metadata": {
    "collapsed": false
   },
   "outputs": [
    {
     "data": {
      "text/plain": [
       "0.96898682083808418"
      ]
     },
     "execution_count": 117,
     "metadata": {},
     "output_type": "execute_result"
    }
   ],
   "source": [
    "accuracy = clf.score(X_test, y_test)\n",
    "accuracy"
   ]
  },
  {
   "cell_type": "code",
   "execution_count": 118,
   "metadata": {
    "collapsed": false
   },
   "outputs": [],
   "source": [
    "# for ker in ['linear','poly','rbf','sigmoid']:\n",
    "#     clf = svm.SVR(kernel=ker)\n",
    "#     clf.fit(X_train, y_train)\n",
    "#     accuracy = clf.score(X_test, y_test)\n",
    "#     print(accuracy)"
   ]
  },
  {
   "cell_type": "code",
   "execution_count": 119,
   "metadata": {
    "collapsed": false
   },
   "outputs": [],
   "source": [
    "forecast_set = clf.predict(X_lately)"
   ]
  },
  {
   "cell_type": "code",
   "execution_count": 120,
   "metadata": {
    "collapsed": false
   },
   "outputs": [
    {
     "name": "stdout",
     "output_type": "stream",
     "text": [
      "[ 739.45924625  736.81789577  743.13877934  742.69231888  758.2763939\n",
      "  760.04225399  764.0206379   761.4736754   766.20786071  764.59379519\n",
      "  764.57907935  768.41624872  771.27842271  795.48892971  804.77751694\n",
      "  806.081886    805.26300835  803.8111731   812.68041667  811.70449395\n",
      "  813.3963899   815.19998165  814.41715016  813.88404439  812.3613203\n",
      "  807.60836708  811.50480024  809.33198805  806.40534247  803.7642725\n",
      "  803.39379694] 0.968986820838 31\n"
     ]
    }
   ],
   "source": [
    "print(forecast_set, accuracy, forecast_out)"
   ]
  },
  {
   "cell_type": "code",
   "execution_count": 121,
   "metadata": {
    "collapsed": true
   },
   "outputs": [],
   "source": [
    "df['Forecast'] = np.nan"
   ]
  },
  {
   "cell_type": "code",
   "execution_count": 122,
   "metadata": {
    "collapsed": true
   },
   "outputs": [],
   "source": [
    "last_date = df.iloc[-1].name\n",
    "last_unix = last_date.timestamp()\n",
    "one_day = 86400\n",
    "next_unix = last_unix + one_day"
   ]
  },
  {
   "cell_type": "code",
   "execution_count": 123,
   "metadata": {
    "collapsed": false
   },
   "outputs": [],
   "source": [
    "for i in forecast_set:\n",
    "    next_date = datetime.datetime.fromtimestamp(next_unix)\n",
    "    next_unix += one_day\n",
    "    df.loc[next_date] = [np.nan for _ in range(len(df.columns) - 1)] + [i]"
   ]
  },
  {
   "cell_type": "code",
   "execution_count": 124,
   "metadata": {
    "collapsed": false
   },
   "outputs": [
    {
     "data": {
      "image/png": "[encoded data removed]",
      "text/plain": [
       "<matplotlib.figure.Figure at 0x7fc04388f390>"
      ]
     },
     "metadata": {},
     "output_type": "display_data"
    }
   ],
   "source": [
    "df['Adj. Close'].plot()\n",
    "df['Forecast'].plot()\n",
    "plt.legend(loc=4)\n",
    "plt.ylabel('Price')\n",
    "plt.show()"
   ]
  },
  {
   "cell_type": "code",
   "execution_count": 125,
   "metadata": {
    "collapsed": true
   },
   "outputs": [],
   "source": [
    "with open('linearregression.pickle','wb') as f:\n",
    "    pickle.dump(clf,f)"
   ]
  },
  {
   "cell_type": "code",
   "execution_count": 126,
   "metadata": {
    "collapsed": false
   },
   "outputs": [],
   "source": [
    "pickle_in = open('linearregression.pickle','rb')\n",
    "clf = pickle.load(pickle_in)"
   ]
  },
  {
   "cell_type": "code",
   "execution_count": 127,
   "metadata": {
    "collapsed": true
   },
   "outputs": [],
   "source": [
    "\n"
   ]
  },
  {
   "cell_type": "code",
   "execution_count": null,
   "metadata": {
    "collapsed": true
   },
   "outputs": [],
   "source": []
  }
 ],
 "metadata": {
  "kernelspec": {
   "display_name": "Python 3",
   "language": "python",
   "name": "python3"
  },
  "language_info": {
   "codemirror_mode": {
    "name": "ipython",
    "version": 3
   },
   "file_extension": ".py",
   "mimetype": "text/x-python",
   "name": "python",
   "nbconvert_exporter": "python",
   "pygments_lexer": "ipython3",
   "version": "3.5.2"
  }
 },
 "nbformat": 4,
 "nbformat_minor": 0
}

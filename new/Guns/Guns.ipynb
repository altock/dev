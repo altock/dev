{
 "cells": [
  {
   "cell_type": "code",
   "execution_count": 225,
   "metadata": {
    "collapsed": false
   },
   "outputs": [],
   "source": [
    "import pandas as pd\n",
    "import numpy as np\n",
    "import os\n",
    "from sklearn import preprocessing, cross_validation, svm \n",
    "from sklearn.linear_model import LinearRegression\n",
    "import matplotlib.pyplot as plt\n",
    "%matplotlib inline"
   ]
  },
  {
   "cell_type": "code",
   "execution_count": 226,
   "metadata": {
    "collapsed": false
   },
   "outputs": [
    {
     "data": {
      "text/html": [
       "<div>\n",
       "<table border=\"1\" class=\"dataframe\">\n",
       "  <thead>\n",
       "    <tr style=\"text-align: right;\">\n",
       "      <th></th>\n",
       "      <th>ShotID</th>\n",
       "      <th>Shooter</th>\n",
       "      <th>X (in)</th>\n",
       "      <th>Y (in)</th>\n",
       "      <th>Distance From Target</th>\n",
       "      <th>Notes</th>\n",
       "      <th>Accel X Max</th>\n",
       "      <th>Accel X Min</th>\n",
       "      <th>Accel Y Max</th>\n",
       "      <th>Accel Y Min</th>\n",
       "      <th>Accel Z Max</th>\n",
       "      <th>Accel Z Min</th>\n",
       "      <th>1 Sec Vol before shot x</th>\n",
       "      <th>1 Sec Vol before shot y</th>\n",
       "      <th>1 Sec Vol before shot z</th>\n",
       "      <th>Avg 1 sec Vol Before Shot</th>\n",
       "      <th>Data Direction X</th>\n",
       "      <th>Data Direction Y</th>\n",
       "      <th>Data Direction Z</th>\n",
       "    </tr>\n",
       "  </thead>\n",
       "  <tbody>\n",
       "    <tr>\n",
       "      <th>0</th>\n",
       "      <td>A1</td>\n",
       "      <td>Rob</td>\n",
       "      <td>0.5</td>\n",
       "      <td>-4</td>\n",
       "      <td>4.031129</td>\n",
       "      <td>NaN</td>\n",
       "      <td>7.796</td>\n",
       "      <td>-26.868</td>\n",
       "      <td>2.284</td>\n",
       "      <td>-30.617</td>\n",
       "      <td>23.592</td>\n",
       "      <td>-35.396</td>\n",
       "      <td>0.023</td>\n",
       "      <td>0.087</td>\n",
       "      <td>0.144</td>\n",
       "      <td>0.084667</td>\n",
       "      <td>Backwards</td>\n",
       "      <td>Up</td>\n",
       "      <td>Right</td>\n",
       "    </tr>\n",
       "    <tr>\n",
       "      <th>1</th>\n",
       "      <td>A2</td>\n",
       "      <td>Rob</td>\n",
       "      <td>0.75</td>\n",
       "      <td>-1.25</td>\n",
       "      <td>1.457738</td>\n",
       "      <td>NaN</td>\n",
       "      <td>5.406</td>\n",
       "      <td>-22.477</td>\n",
       "      <td>21.088</td>\n",
       "      <td>-19.005</td>\n",
       "      <td>34.754</td>\n",
       "      <td>-91.866</td>\n",
       "      <td>0.009</td>\n",
       "      <td>0.102</td>\n",
       "      <td>0.072</td>\n",
       "      <td>0.061000</td>\n",
       "      <td>Backwards</td>\n",
       "      <td>Down</td>\n",
       "      <td>Right</td>\n",
       "    </tr>\n",
       "    <tr>\n",
       "      <th>2</th>\n",
       "      <td>A3</td>\n",
       "      <td>Rob</td>\n",
       "      <td>1</td>\n",
       "      <td>-3.5</td>\n",
       "      <td>3.640055</td>\n",
       "      <td>NaN</td>\n",
       "      <td>12.129</td>\n",
       "      <td>-23.401</td>\n",
       "      <td>4.118</td>\n",
       "      <td>-25.848</td>\n",
       "      <td>44.724</td>\n",
       "      <td>-36.157</td>\n",
       "      <td>0.018</td>\n",
       "      <td>0.106</td>\n",
       "      <td>0.066</td>\n",
       "      <td>0.063333</td>\n",
       "      <td>Backwards</td>\n",
       "      <td>Up</td>\n",
       "      <td>Left</td>\n",
       "    </tr>\n",
       "    <tr>\n",
       "      <th>3</th>\n",
       "      <td>A4</td>\n",
       "      <td>Rob</td>\n",
       "      <td>0</td>\n",
       "      <td>0</td>\n",
       "      <td>0.000000</td>\n",
       "      <td>NaN</td>\n",
       "      <td>16.477</td>\n",
       "      <td>-15.787</td>\n",
       "      <td>17.942</td>\n",
       "      <td>-86.024</td>\n",
       "      <td>44.647</td>\n",
       "      <td>-10.233</td>\n",
       "      <td>0.020</td>\n",
       "      <td>0.121</td>\n",
       "      <td>0.052</td>\n",
       "      <td>0.064333</td>\n",
       "      <td>Forward</td>\n",
       "      <td>Up</td>\n",
       "      <td>Left</td>\n",
       "    </tr>\n",
       "    <tr>\n",
       "      <th>4</th>\n",
       "      <td>A5</td>\n",
       "      <td>Rob</td>\n",
       "      <td>0</td>\n",
       "      <td>-0.5</td>\n",
       "      <td>0.500000</td>\n",
       "      <td>NaN</td>\n",
       "      <td>11.875</td>\n",
       "      <td>-20.743</td>\n",
       "      <td>5.909</td>\n",
       "      <td>-70.595</td>\n",
       "      <td>28.496</td>\n",
       "      <td>-28.328</td>\n",
       "      <td>0.034</td>\n",
       "      <td>0.079</td>\n",
       "      <td>0.101</td>\n",
       "      <td>0.071333</td>\n",
       "      <td>Backwards</td>\n",
       "      <td>Up</td>\n",
       "      <td>Left</td>\n",
       "    </tr>\n",
       "    <tr>\n",
       "      <th>5</th>\n",
       "      <td>A6</td>\n",
       "      <td>Rob</td>\n",
       "      <td>0.75</td>\n",
       "      <td>-2</td>\n",
       "      <td>2.136001</td>\n",
       "      <td>NaN</td>\n",
       "      <td>13.297</td>\n",
       "      <td>-19.767</td>\n",
       "      <td>5.631</td>\n",
       "      <td>-59.218</td>\n",
       "      <td>30.593</td>\n",
       "      <td>-47.645</td>\n",
       "      <td>0.020</td>\n",
       "      <td>0.063</td>\n",
       "      <td>0.026</td>\n",
       "      <td>0.036333</td>\n",
       "      <td>Backwards</td>\n",
       "      <td>Up</td>\n",
       "      <td>Right</td>\n",
       "    </tr>\n",
       "    <tr>\n",
       "      <th>6</th>\n",
       "      <td>A7</td>\n",
       "      <td>Rob</td>\n",
       "      <td>-1</td>\n",
       "      <td>-2.25</td>\n",
       "      <td>2.462214</td>\n",
       "      <td>NaN</td>\n",
       "      <td>13.748</td>\n",
       "      <td>-26.394</td>\n",
       "      <td>36.392</td>\n",
       "      <td>-26.336</td>\n",
       "      <td>57.025</td>\n",
       "      <td>-78.563</td>\n",
       "      <td>0.006</td>\n",
       "      <td>0.019</td>\n",
       "      <td>0.081</td>\n",
       "      <td>0.035333</td>\n",
       "      <td>Backwards</td>\n",
       "      <td>Down</td>\n",
       "      <td>Right</td>\n",
       "    </tr>\n",
       "    <tr>\n",
       "      <th>7</th>\n",
       "      <td>A8</td>\n",
       "      <td>Rob</td>\n",
       "      <td>1</td>\n",
       "      <td>-0.5</td>\n",
       "      <td>1.118034</td>\n",
       "      <td>NaN</td>\n",
       "      <td>13.810</td>\n",
       "      <td>-28.625</td>\n",
       "      <td>33.169</td>\n",
       "      <td>-23.276</td>\n",
       "      <td>61.148</td>\n",
       "      <td>-77.764</td>\n",
       "      <td>0.014</td>\n",
       "      <td>0.112</td>\n",
       "      <td>0.055</td>\n",
       "      <td>0.060333</td>\n",
       "      <td>Backwards</td>\n",
       "      <td>Down</td>\n",
       "      <td>Right</td>\n",
       "    </tr>\n",
       "    <tr>\n",
       "      <th>8</th>\n",
       "      <td>A9</td>\n",
       "      <td>Rob</td>\n",
       "      <td>1</td>\n",
       "      <td>-3</td>\n",
       "      <td>3.162278</td>\n",
       "      <td>NaN</td>\n",
       "      <td>34.390</td>\n",
       "      <td>-18.842</td>\n",
       "      <td>23.789</td>\n",
       "      <td>-43.258</td>\n",
       "      <td>53.841</td>\n",
       "      <td>-11.875</td>\n",
       "      <td>0.048</td>\n",
       "      <td>0.118</td>\n",
       "      <td>0.147</td>\n",
       "      <td>0.104333</td>\n",
       "      <td>Forward</td>\n",
       "      <td>Up</td>\n",
       "      <td>Left</td>\n",
       "    </tr>\n",
       "    <tr>\n",
       "      <th>9</th>\n",
       "      <td>B1</td>\n",
       "      <td>Rob</td>\n",
       "      <td>-3</td>\n",
       "      <td>-6.5</td>\n",
       "      <td>7.158911</td>\n",
       "      <td>NaN</td>\n",
       "      <td>11.813</td>\n",
       "      <td>-38.154</td>\n",
       "      <td>2.926</td>\n",
       "      <td>-20.044</td>\n",
       "      <td>54.473</td>\n",
       "      <td>-57.365</td>\n",
       "      <td>0.018</td>\n",
       "      <td>0.080</td>\n",
       "      <td>0.349</td>\n",
       "      <td>0.149000</td>\n",
       "      <td>Backwards</td>\n",
       "      <td>Up</td>\n",
       "      <td>Right</td>\n",
       "    </tr>\n",
       "  </tbody>\n",
       "</table>\n",
       "</div>"
      ],
      "text/plain": [
       "  ShotID Shooter X (in) Y (in)  Distance From Target Notes  Accel X Max  \\\n",
       "0     A1     Rob    0.5     -4              4.031129   NaN        7.796   \n",
       "1     A2     Rob   0.75  -1.25              1.457738   NaN        5.406   \n",
       "2     A3     Rob      1   -3.5              3.640055   NaN       12.129   \n",
       "3     A4     Rob      0      0              0.000000   NaN       16.477   \n",
       "4     A5     Rob      0   -0.5              0.500000   NaN       11.875   \n",
       "5     A6     Rob   0.75     -2              2.136001   NaN       13.297   \n",
       "6     A7     Rob     -1  -2.25              2.462214   NaN       13.748   \n",
       "7     A8     Rob      1   -0.5              1.118034   NaN       13.810   \n",
       "8     A9     Rob      1     -3              3.162278   NaN       34.390   \n",
       "9     B1     Rob     -3   -6.5              7.158911   NaN       11.813   \n",
       "\n",
       "   Accel X Min  Accel Y Max  Accel Y Min  Accel Z Max  Accel Z Min  \\\n",
       "0      -26.868        2.284      -30.617       23.592      -35.396   \n",
       "1      -22.477       21.088      -19.005       34.754      -91.866   \n",
       "2      -23.401        4.118      -25.848       44.724      -36.157   \n",
       "3      -15.787       17.942      -86.024       44.647      -10.233   \n",
       "4      -20.743        5.909      -70.595       28.496      -28.328   \n",
       "5      -19.767        5.631      -59.218       30.593      -47.645   \n",
       "6      -26.394       36.392      -26.336       57.025      -78.563   \n",
       "7      -28.625       33.169      -23.276       61.148      -77.764   \n",
       "8      -18.842       23.789      -43.258       53.841      -11.875   \n",
       "9      -38.154        2.926      -20.044       54.473      -57.365   \n",
       "\n",
       "   1 Sec Vol before shot x  1 Sec Vol before shot y  1 Sec Vol before shot z  \\\n",
       "0                    0.023                    0.087                    0.144   \n",
       "1                    0.009                    0.102                    0.072   \n",
       "2                    0.018                    0.106                    0.066   \n",
       "3                    0.020                    0.121                    0.052   \n",
       "4                    0.034                    0.079                    0.101   \n",
       "5                    0.020                    0.063                    0.026   \n",
       "6                    0.006                    0.019                    0.081   \n",
       "7                    0.014                    0.112                    0.055   \n",
       "8                    0.048                    0.118                    0.147   \n",
       "9                    0.018                    0.080                    0.349   \n",
       "\n",
       "   Avg 1 sec Vol Before Shot Data Direction X Data Direction Y  \\\n",
       "0                   0.084667        Backwards               Up   \n",
       "1                   0.061000        Backwards             Down   \n",
       "2                   0.063333        Backwards               Up   \n",
       "3                   0.064333          Forward               Up   \n",
       "4                   0.071333        Backwards               Up   \n",
       "5                   0.036333        Backwards               Up   \n",
       "6                   0.035333        Backwards             Down   \n",
       "7                   0.060333        Backwards             Down   \n",
       "8                   0.104333          Forward               Up   \n",
       "9                   0.149000        Backwards               Up   \n",
       "\n",
       "  Data Direction Z  \n",
       "0            Right  \n",
       "1            Right  \n",
       "2             Left  \n",
       "3             Left  \n",
       "4             Left  \n",
       "5            Right  \n",
       "6            Right  \n",
       "7            Right  \n",
       "8             Left  \n",
       "9            Right  "
      ]
     },
     "execution_count": 226,
     "metadata": {},
     "output_type": "execute_result"
    }
   ],
   "source": [
    "path = os.getcwd() + '/TestResults.csv'\n",
    "\n",
    "data = pd.read_csv(path, header =0, usecols=list(range(0,19)),names=['ShotID','Shooter', 'X (in)', 'Y (in)', 'Distance From Target', 'Notes', 'Accel X Max','Accel X Min','Accel Y Max','Accel Y Min','Accel Z Max','Accel Z Min','1 Sec Vol before shot x','1 Sec Vol before shot y','1 Sec Vol before shot z','Avg 1 sec Vol Before Shot','Data Direction X','Data Direction Y','Data Direction Z'])\n",
    "data.head(10)"
   ]
  },
  {
   "cell_type": "code",
   "execution_count": 227,
   "metadata": {
    "collapsed": false
   },
   "outputs": [],
   "source": [
    "data = data[['X (in)', 'Y (in)', 'Distance From Target', 'Accel X Max', 'Accel X Min','Accel Y Max','Accel Y Min','Accel Z Max','Accel Z Min']]"
   ]
  },
  {
   "cell_type": "code",
   "execution_count": 228,
   "metadata": {
    "collapsed": false
   },
   "outputs": [
    {
     "data": {
      "text/html": [
       "<div>\n",
       "<table border=\"1\" class=\"dataframe\">\n",
       "  <thead>\n",
       "    <tr style=\"text-align: right;\">\n",
       "      <th></th>\n",
       "      <th>Distance From Target</th>\n",
       "      <th>Accel X Max</th>\n",
       "      <th>Accel X Min</th>\n",
       "      <th>Accel Y Max</th>\n",
       "      <th>Accel Y Min</th>\n",
       "      <th>Accel Z Max</th>\n",
       "      <th>Accel Z Min</th>\n",
       "    </tr>\n",
       "  </thead>\n",
       "  <tbody>\n",
       "    <tr>\n",
       "      <th>count</th>\n",
       "      <td>76.000000</td>\n",
       "      <td>76.000000</td>\n",
       "      <td>76.000000</td>\n",
       "      <td>76.000000</td>\n",
       "      <td>76.000000</td>\n",
       "      <td>76.000000</td>\n",
       "      <td>76.000000</td>\n",
       "    </tr>\n",
       "    <tr>\n",
       "      <th>mean</th>\n",
       "      <td>2.646765</td>\n",
       "      <td>19.766211</td>\n",
       "      <td>-20.817974</td>\n",
       "      <td>19.947434</td>\n",
       "      <td>-42.939947</td>\n",
       "      <td>55.302342</td>\n",
       "      <td>-39.599118</td>\n",
       "    </tr>\n",
       "    <tr>\n",
       "      <th>std</th>\n",
       "      <td>1.944539</td>\n",
       "      <td>15.550466</td>\n",
       "      <td>8.738517</td>\n",
       "      <td>13.452989</td>\n",
       "      <td>20.573652</td>\n",
       "      <td>40.952996</td>\n",
       "      <td>38.065828</td>\n",
       "    </tr>\n",
       "    <tr>\n",
       "      <th>min</th>\n",
       "      <td>0.000000</td>\n",
       "      <td>1.748000</td>\n",
       "      <td>-56.072000</td>\n",
       "      <td>-0.493000</td>\n",
       "      <td>-96.592000</td>\n",
       "      <td>9.845000</td>\n",
       "      <td>-153.483000</td>\n",
       "    </tr>\n",
       "    <tr>\n",
       "      <th>25%</th>\n",
       "      <td>1.118034</td>\n",
       "      <td>10.274500</td>\n",
       "      <td>-26.449000</td>\n",
       "      <td>7.446000</td>\n",
       "      <td>-52.007750</td>\n",
       "      <td>28.300750</td>\n",
       "      <td>-54.524750</td>\n",
       "    </tr>\n",
       "    <tr>\n",
       "      <th>50%</th>\n",
       "      <td>2.243034</td>\n",
       "      <td>15.763000</td>\n",
       "      <td>-18.919000</td>\n",
       "      <td>18.909500</td>\n",
       "      <td>-39.638500</td>\n",
       "      <td>40.476000</td>\n",
       "      <td>-25.922000</td>\n",
       "    </tr>\n",
       "    <tr>\n",
       "      <th>75%</th>\n",
       "      <td>3.923051</td>\n",
       "      <td>25.783000</td>\n",
       "      <td>-14.650000</td>\n",
       "      <td>30.470000</td>\n",
       "      <td>-26.726500</td>\n",
       "      <td>67.941250</td>\n",
       "      <td>-11.630750</td>\n",
       "    </tr>\n",
       "    <tr>\n",
       "      <th>max</th>\n",
       "      <td>9.013878</td>\n",
       "      <td>102.817000</td>\n",
       "      <td>-9.246000</td>\n",
       "      <td>52.620000</td>\n",
       "      <td>-11.564000</td>\n",
       "      <td>156.902000</td>\n",
       "      <td>-1.595000</td>\n",
       "    </tr>\n",
       "  </tbody>\n",
       "</table>\n",
       "</div>"
      ],
      "text/plain": [
       "       Distance From Target  Accel X Max  Accel X Min  Accel Y Max  \\\n",
       "count             76.000000    76.000000    76.000000    76.000000   \n",
       "mean               2.646765    19.766211   -20.817974    19.947434   \n",
       "std                1.944539    15.550466     8.738517    13.452989   \n",
       "min                0.000000     1.748000   -56.072000    -0.493000   \n",
       "25%                1.118034    10.274500   -26.449000     7.446000   \n",
       "50%                2.243034    15.763000   -18.919000    18.909500   \n",
       "75%                3.923051    25.783000   -14.650000    30.470000   \n",
       "max                9.013878   102.817000    -9.246000    52.620000   \n",
       "\n",
       "       Accel Y Min  Accel Z Max  Accel Z Min  \n",
       "count    76.000000    76.000000    76.000000  \n",
       "mean    -42.939947    55.302342   -39.599118  \n",
       "std      20.573652    40.952996    38.065828  \n",
       "min     -96.592000     9.845000  -153.483000  \n",
       "25%     -52.007750    28.300750   -54.524750  \n",
       "50%     -39.638500    40.476000   -25.922000  \n",
       "75%     -26.726500    67.941250   -11.630750  \n",
       "max     -11.564000   156.902000    -1.595000  "
      ]
     },
     "execution_count": 228,
     "metadata": {},
     "output_type": "execute_result"
    }
   ],
   "source": [
    "data.dropna(inplace=True)#data.fillna(-9999,inplace=True)\n",
    "data.describe()"
   ]
  },
  {
   "cell_type": "code",
   "execution_count": 229,
   "metadata": {
    "collapsed": false
   },
   "outputs": [],
   "source": [
    "# data['X_Change'] = data['Accel X Max'] - data['Accel X Min']\n",
    "# data['Y_Change'] = data['Accel Y Max'] - data['Accel Y Min']\n",
    "# data['Z_Change'] = data['Accel Z Max'] - data['Accel Z Min']"
   ]
  },
  {
   "cell_type": "code",
   "execution_count": 230,
   "metadata": {
    "collapsed": false
   },
   "outputs": [],
   "source": [
    "#data = data[['Distance From Target', 'X_Change', 'Y_Change', 'Z_Change']]"
   ]
  },
  {
   "cell_type": "code",
   "execution_count": 231,
   "metadata": {
    "collapsed": false
   },
   "outputs": [],
   "source": [
    "forecast_col = 'Distance From Target'\n",
    "forecast_cols = ['X (in)', 'Y (in)']"
   ]
  },
  {
   "cell_type": "code",
   "execution_count": 232,
   "metadata": {
    "collapsed": false
   },
   "outputs": [
    {
     "data": {
      "text/html": [
       "<div>\n",
       "<table border=\"1\" class=\"dataframe\">\n",
       "  <thead>\n",
       "    <tr style=\"text-align: right;\">\n",
       "      <th></th>\n",
       "      <th>Distance From Target</th>\n",
       "      <th>Accel X Max</th>\n",
       "      <th>Accel X Min</th>\n",
       "      <th>Accel Y Max</th>\n",
       "      <th>Accel Y Min</th>\n",
       "      <th>Accel Z Max</th>\n",
       "      <th>Accel Z Min</th>\n",
       "    </tr>\n",
       "  </thead>\n",
       "  <tbody>\n",
       "    <tr>\n",
       "      <th>count</th>\n",
       "      <td>76.000000</td>\n",
       "      <td>76.000000</td>\n",
       "      <td>76.000000</td>\n",
       "      <td>76.000000</td>\n",
       "      <td>76.000000</td>\n",
       "      <td>76.000000</td>\n",
       "      <td>76.000000</td>\n",
       "    </tr>\n",
       "    <tr>\n",
       "      <th>mean</th>\n",
       "      <td>2.646765</td>\n",
       "      <td>19.766211</td>\n",
       "      <td>-20.817974</td>\n",
       "      <td>19.947434</td>\n",
       "      <td>-42.939947</td>\n",
       "      <td>55.302342</td>\n",
       "      <td>-39.599118</td>\n",
       "    </tr>\n",
       "    <tr>\n",
       "      <th>std</th>\n",
       "      <td>1.944539</td>\n",
       "      <td>15.550466</td>\n",
       "      <td>8.738517</td>\n",
       "      <td>13.452989</td>\n",
       "      <td>20.573652</td>\n",
       "      <td>40.952996</td>\n",
       "      <td>38.065828</td>\n",
       "    </tr>\n",
       "    <tr>\n",
       "      <th>min</th>\n",
       "      <td>0.000000</td>\n",
       "      <td>1.748000</td>\n",
       "      <td>-56.072000</td>\n",
       "      <td>-0.493000</td>\n",
       "      <td>-96.592000</td>\n",
       "      <td>9.845000</td>\n",
       "      <td>-153.483000</td>\n",
       "    </tr>\n",
       "    <tr>\n",
       "      <th>25%</th>\n",
       "      <td>1.118034</td>\n",
       "      <td>10.274500</td>\n",
       "      <td>-26.449000</td>\n",
       "      <td>7.446000</td>\n",
       "      <td>-52.007750</td>\n",
       "      <td>28.300750</td>\n",
       "      <td>-54.524750</td>\n",
       "    </tr>\n",
       "    <tr>\n",
       "      <th>50%</th>\n",
       "      <td>2.243034</td>\n",
       "      <td>15.763000</td>\n",
       "      <td>-18.919000</td>\n",
       "      <td>18.909500</td>\n",
       "      <td>-39.638500</td>\n",
       "      <td>40.476000</td>\n",
       "      <td>-25.922000</td>\n",
       "    </tr>\n",
       "    <tr>\n",
       "      <th>75%</th>\n",
       "      <td>3.923051</td>\n",
       "      <td>25.783000</td>\n",
       "      <td>-14.650000</td>\n",
       "      <td>30.470000</td>\n",
       "      <td>-26.726500</td>\n",
       "      <td>67.941250</td>\n",
       "      <td>-11.630750</td>\n",
       "    </tr>\n",
       "    <tr>\n",
       "      <th>max</th>\n",
       "      <td>9.013878</td>\n",
       "      <td>102.817000</td>\n",
       "      <td>-9.246000</td>\n",
       "      <td>52.620000</td>\n",
       "      <td>-11.564000</td>\n",
       "      <td>156.902000</td>\n",
       "      <td>-1.595000</td>\n",
       "    </tr>\n",
       "  </tbody>\n",
       "</table>\n",
       "</div>"
      ],
      "text/plain": [
       "       Distance From Target  Accel X Max  Accel X Min  Accel Y Max  \\\n",
       "count             76.000000    76.000000    76.000000    76.000000   \n",
       "mean               2.646765    19.766211   -20.817974    19.947434   \n",
       "std                1.944539    15.550466     8.738517    13.452989   \n",
       "min                0.000000     1.748000   -56.072000    -0.493000   \n",
       "25%                1.118034    10.274500   -26.449000     7.446000   \n",
       "50%                2.243034    15.763000   -18.919000    18.909500   \n",
       "75%                3.923051    25.783000   -14.650000    30.470000   \n",
       "max                9.013878   102.817000    -9.246000    52.620000   \n",
       "\n",
       "       Accel Y Min  Accel Z Max  Accel Z Min  \n",
       "count    76.000000    76.000000    76.000000  \n",
       "mean    -42.939947    55.302342   -39.599118  \n",
       "std      20.573652    40.952996    38.065828  \n",
       "min     -96.592000     9.845000  -153.483000  \n",
       "25%     -52.007750    28.300750   -54.524750  \n",
       "50%     -39.638500    40.476000   -25.922000  \n",
       "75%     -26.726500    67.941250   -11.630750  \n",
       "max     -11.564000   156.902000    -1.595000  "
      ]
     },
     "execution_count": 232,
     "metadata": {},
     "output_type": "execute_result"
    }
   ],
   "source": [
    "data.describe()"
   ]
  },
  {
   "cell_type": "code",
   "execution_count": 233,
   "metadata": {
    "collapsed": false
   },
   "outputs": [],
   "source": [
    "X = np.array(data.drop([forecast_col],1))\n",
    "y = np.array(data[forecast_col])"
   ]
  },
  {
   "cell_type": "code",
   "execution_count": 255,
   "metadata": {
    "collapsed": false
   },
   "outputs": [
    {
     "data": {
      "text/plain": [
       "((76, 8), (76,))"
      ]
     },
     "execution_count": 255,
     "metadata": {},
     "output_type": "execute_result"
    }
   ],
   "source": [
    "X.shape, y.shape"
   ]
  },
  {
   "cell_type": "code",
   "execution_count": 235,
   "metadata": {
    "collapsed": false
   },
   "outputs": [
    {
     "name": "stderr",
     "output_type": "stream",
     "text": [
      "/home/altock/anaconda3/envs/py35/lib/python3.5/site-packages/sklearn/utils/validation.py:420: DataConversionWarning: Data with input dtype object was converted to float64 by the scale function.\n",
      "  warnings.warn(msg, DataConversionWarning)\n"
     ]
    }
   ],
   "source": [
    "X = preprocessing.scale(X)"
   ]
  },
  {
   "cell_type": "code",
   "execution_count": 246,
   "metadata": {
    "collapsed": false
   },
   "outputs": [],
   "source": [
    "X_train, X_test, y_train, y_test = cross_validation.train_test_split(X,y,test_size=0.17)"
   ]
  },
  {
   "cell_type": "code",
   "execution_count": 247,
   "metadata": {
    "collapsed": false
   },
   "outputs": [
    {
     "data": {
      "text/plain": [
       "0.68360027182164318"
      ]
     },
     "execution_count": 247,
     "metadata": {},
     "output_type": "execute_result"
    }
   ],
   "source": [
    "clf = svm.SVR(kernel='rbf')\n",
    "clf.fit(X_train, y_train)\n",
    "accuracy = clf.score(X_test, y_test)\n",
    "accuracy"
   ]
  },
  {
   "cell_type": "code",
   "execution_count": 210,
   "metadata": {
    "collapsed": false
   },
   "outputs": [],
   "source": [
    "path = os.getcwd() + '/TestResults.csv'\n",
    "\n",
    "data = pd.read_csv(path, header =0, usecols=list(range(0,19)),names=['ShotID','Shooter', 'X (in)', 'Y (in)', 'Distance From Target', 'Notes', 'Accel X Max','Accel X Min','Accel Y Max','Accel Y Min','Accel Z Max','Accel Z Min','1 Sec Vol before shot x','1 Sec Vol before shot y','1 Sec Vol before shot z','Avg 1 sec Vol Before Shot','Data Direction X','Data Direction Y','Data Direction Z'])"
   ]
  },
  {
   "cell_type": "code",
   "execution_count": 211,
   "metadata": {
    "collapsed": false
   },
   "outputs": [
    {
     "data": {
      "text/html": [
       "<div>\n",
       "<table border=\"1\" class=\"dataframe\">\n",
       "  <thead>\n",
       "    <tr style=\"text-align: right;\">\n",
       "      <th></th>\n",
       "      <th>Accel X Max</th>\n",
       "      <th>Accel X Min</th>\n",
       "      <th>Accel Y Max</th>\n",
       "      <th>Accel Y Min</th>\n",
       "      <th>Accel Z Max</th>\n",
       "      <th>Accel Z Min</th>\n",
       "    </tr>\n",
       "  </thead>\n",
       "  <tbody>\n",
       "    <tr>\n",
       "      <th>count</th>\n",
       "      <td>76.000000</td>\n",
       "      <td>76.000000</td>\n",
       "      <td>76.000000</td>\n",
       "      <td>76.000000</td>\n",
       "      <td>76.000000</td>\n",
       "      <td>76.000000</td>\n",
       "    </tr>\n",
       "    <tr>\n",
       "      <th>mean</th>\n",
       "      <td>19.766211</td>\n",
       "      <td>-20.817974</td>\n",
       "      <td>19.947434</td>\n",
       "      <td>-42.939947</td>\n",
       "      <td>55.302342</td>\n",
       "      <td>-39.599118</td>\n",
       "    </tr>\n",
       "    <tr>\n",
       "      <th>std</th>\n",
       "      <td>15.550466</td>\n",
       "      <td>8.738517</td>\n",
       "      <td>13.452989</td>\n",
       "      <td>20.573652</td>\n",
       "      <td>40.952996</td>\n",
       "      <td>38.065828</td>\n",
       "    </tr>\n",
       "    <tr>\n",
       "      <th>min</th>\n",
       "      <td>1.748000</td>\n",
       "      <td>-56.072000</td>\n",
       "      <td>-0.493000</td>\n",
       "      <td>-96.592000</td>\n",
       "      <td>9.845000</td>\n",
       "      <td>-153.483000</td>\n",
       "    </tr>\n",
       "    <tr>\n",
       "      <th>25%</th>\n",
       "      <td>10.274500</td>\n",
       "      <td>-26.449000</td>\n",
       "      <td>7.446000</td>\n",
       "      <td>-52.007750</td>\n",
       "      <td>28.300750</td>\n",
       "      <td>-54.524750</td>\n",
       "    </tr>\n",
       "    <tr>\n",
       "      <th>50%</th>\n",
       "      <td>15.763000</td>\n",
       "      <td>-18.919000</td>\n",
       "      <td>18.909500</td>\n",
       "      <td>-39.638500</td>\n",
       "      <td>40.476000</td>\n",
       "      <td>-25.922000</td>\n",
       "    </tr>\n",
       "    <tr>\n",
       "      <th>75%</th>\n",
       "      <td>25.783000</td>\n",
       "      <td>-14.650000</td>\n",
       "      <td>30.470000</td>\n",
       "      <td>-26.726500</td>\n",
       "      <td>67.941250</td>\n",
       "      <td>-11.630750</td>\n",
       "    </tr>\n",
       "    <tr>\n",
       "      <th>max</th>\n",
       "      <td>102.817000</td>\n",
       "      <td>-9.246000</td>\n",
       "      <td>52.620000</td>\n",
       "      <td>-11.564000</td>\n",
       "      <td>156.902000</td>\n",
       "      <td>-1.595000</td>\n",
       "    </tr>\n",
       "  </tbody>\n",
       "</table>\n",
       "</div>"
      ],
      "text/plain": [
       "       Accel X Max  Accel X Min  Accel Y Max  Accel Y Min  Accel Z Max  \\\n",
       "count    76.000000    76.000000    76.000000    76.000000    76.000000   \n",
       "mean     19.766211   -20.817974    19.947434   -42.939947    55.302342   \n",
       "std      15.550466     8.738517    13.452989    20.573652    40.952996   \n",
       "min       1.748000   -56.072000    -0.493000   -96.592000     9.845000   \n",
       "25%      10.274500   -26.449000     7.446000   -52.007750    28.300750   \n",
       "50%      15.763000   -18.919000    18.909500   -39.638500    40.476000   \n",
       "75%      25.783000   -14.650000    30.470000   -26.726500    67.941250   \n",
       "max     102.817000    -9.246000    52.620000   -11.564000   156.902000   \n",
       "\n",
       "       Accel Z Min  \n",
       "count    76.000000  \n",
       "mean    -39.599118  \n",
       "std      38.065828  \n",
       "min    -153.483000  \n",
       "25%     -54.524750  \n",
       "50%     -25.922000  \n",
       "75%     -11.630750  \n",
       "max      -1.595000  "
      ]
     },
     "execution_count": 211,
     "metadata": {},
     "output_type": "execute_result"
    }
   ],
   "source": [
    "data = data[['X (in)', 'Y (in)', 'Accel X Max', 'Accel X Min','Accel Y Max','Accel Y Min','Accel Z Max','Accel Z Min']]\n",
    "data.dropna(inplace=True)\n",
    "data = data[data['X (in)'] != 'Missing']\n",
    "data = data[data['Y (in)'] != 'Missing']\n",
    "data.columns\n",
    "data.describe()"
   ]
  },
  {
   "cell_type": "code",
   "execution_count": 212,
   "metadata": {
    "collapsed": false
   },
   "outputs": [],
   "source": [
    "X = np.array(data.drop(forecast_cols,1))\n",
    "y = np.array(data[forecast_cols[1]])\n"
   ]
  },
  {
   "cell_type": "code",
   "execution_count": 213,
   "metadata": {
    "collapsed": true
   },
   "outputs": [],
   "source": [
    "X = preprocessing.scale(X)"
   ]
  },
  {
   "cell_type": "code",
   "execution_count": 214,
   "metadata": {
    "collapsed": false
   },
   "outputs": [
    {
     "data": {
      "text/plain": [
       "array(['-4', '-1.25', '-3.5', '0', '-0.5', '-2', '-2.25', '-0.5', '-3',\n",
       "       '-6.5', '-4.5', '-1', '-5.5', '-1.5', '-4.25', '-3.5', '-2.25',\n",
       "       '-8.5', '-7.5', '-1.75', '-3', '-2', '-5.5', '-0.75', '-0.25',\n",
       "       '-0.75', '-0.25', '-0.5', '-6.5', '-3.5', '-2.25', '-2', '-4.25',\n",
       "       '1.75', '-1.75', '1.25', '1.25', '0.5', '-1', '3.5', '0', '-0.5',\n",
       "       '-0.25', '-3.25', '-3.25', '-4.25', '-4', '0.75', '-3.25', '-0.25',\n",
       "       '-1.75', '1.25', '0', '-1.75', '-1.25', '-1', '2.75', '5', '4.25',\n",
       "       '0', '-1', '0', '0', '-0.5', '0.5', '0.5', '-0.25', '-1.5', '0',\n",
       "       '-2', '0', '0.25', '-2', '-2.75', '0', '2.5'], dtype=object)"
      ]
     },
     "execution_count": 214,
     "metadata": {},
     "output_type": "execute_result"
    }
   ],
   "source": [
    "y"
   ]
  },
  {
   "cell_type": "code",
   "execution_count": 215,
   "metadata": {
    "collapsed": true
   },
   "outputs": [],
   "source": [
    "X_train, X_test, y_train, y_test = cross_validation.train_test_split(X,y,test_size=0.1)"
   ]
  },
  {
   "cell_type": "code",
   "execution_count": 216,
   "metadata": {
    "collapsed": false
   },
   "outputs": [
    {
     "data": {
      "text/plain": [
       "0.32024655416080694"
      ]
     },
     "execution_count": 216,
     "metadata": {},
     "output_type": "execute_result"
    }
   ],
   "source": [
    "clf = LinearRegression() # svm.SVR(kernel='rbf')\n",
    "clf.fit(X_train, y_train)\n",
    "accuracy = clf.score(X_test, y_test)\n",
    "accuracy"
   ]
  },
  {
   "cell_type": "code",
   "execution_count": 256,
   "metadata": {
    "collapsed": true
   },
   "outputs": [],
   "source": [
    "from sklearn import gaussian_process"
   ]
  },
  {
   "cell_type": "code",
   "execution_count": null,
   "metadata": {
    "collapsed": true
   },
   "outputs": [],
   "source": []
  }
 ],
 "metadata": {
  "anaconda-cloud": {},
  "kernelspec": {
   "display_name": "Python 3",
   "language": "python",
   "name": "python3"
  },
  "language_info": {
   "codemirror_mode": {
    "name": "ipython",
    "version": 3
   },
   "file_extension": ".py",
   "mimetype": "text/x-python",
   "name": "python",
   "nbconvert_exporter": "python",
   "pygments_lexer": "ipython3",
   "version": "3.5.2"
  }
 },
 "nbformat": 4,
 "nbformat_minor": 0
}

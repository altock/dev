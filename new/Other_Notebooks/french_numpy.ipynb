{
 "cells": [
  {
   "cell_type": "code",
   "execution_count": 1,
   "metadata": {
    "collapsed": true
   },
   "outputs": [],
   "source": [
    "# http://www.labri.fr/perso/nrougier/teaching/numpy/numpy.html\n",
    "import numpy as np\n",
    "import matplotlib.pyplot as plt"
   ]
  },
  {
   "cell_type": "code",
   "execution_count": 2,
   "metadata": {
    "collapsed": true
   },
   "outputs": [],
   "source": [
    "# The way of python"
   ]
  },
  {
   "cell_type": "code",
   "execution_count": 3,
   "metadata": {
    "collapsed": true
   },
   "outputs": [],
   "source": [
    "Z = [[0,0,0,0,0,0],\n",
    "     [0,0,0,1,0,0],\n",
    "     [0,1,0,1,0,0],\n",
    "     [0,0,1,1,0,0],\n",
    "     [0,0,0,0,0,0],\n",
    "     [0,0,0,0,0,0]]"
   ]
  },
  {
   "cell_type": "code",
   "execution_count": 4,
   "metadata": {
    "collapsed": true
   },
   "outputs": [],
   "source": [
    "def compute_neighbors(Z):\n",
    "  shape = len(Z), len(Z[0])\n",
    "  N = [[0,]*shape[0] for i in range(shape[1])]\n",
    "  for x in range(1,shape[0]-1):\n",
    "    for y in range(1, shape[1]-1):\n",
    "      N[x][y] = Z[x-1][y-1]+Z[x][y-1]+Z[x+1][y-1] \\\n",
    "                + Z[x-1][y]            +Z[x+1][y]   \\\n",
    "                + Z[x-1][y+1]+Z[x][y+1]+Z[x+1][y+1]\n",
    "  return N"
   ]
  },
  {
   "cell_type": "code",
   "execution_count": 5,
   "metadata": {
    "collapsed": true
   },
   "outputs": [],
   "source": [
    "def iterate(Z):\n",
    "  N = compute_neighbors(Z)\n",
    "  shape = len(Z), len(Z[0])\n",
    "  for x in range(1,shape[0]-1):\n",
    "    for y in range(1, shape[1]-1):\n",
    "      if Z[x][y] == 1 and (N[x][y] < 2 or N[x][y] > 3):\n",
    "        Z[x][y] = 0\n",
    "      elif Z[x][y] == 0 and N[x][y] == 3:\n",
    "        Z[x][y] = 1\n",
    "  return Z"
   ]
  },
  {
   "cell_type": "code",
   "execution_count": 6,
   "metadata": {
    "collapsed": false
   },
   "outputs": [
    {
     "name": "stdout",
     "output_type": "stream",
     "text": [
      "[0, 0, 1, 0]\n",
      "[1, 0, 1, 0]\n",
      "[0, 1, 1, 0]\n",
      "[0, 0, 0, 0]\n",
      "\n"
     ]
    }
   ],
   "source": [
    "def show(Z):\n",
    "    for l in Z[1:-1]: print(l[1:-1])\n",
    "    print()\n",
    "show(Z)"
   ]
  },
  {
   "cell_type": "code",
   "execution_count": 7,
   "metadata": {
    "collapsed": false
   },
   "outputs": [
    {
     "name": "stdout",
     "output_type": "stream",
     "text": [
      "[0, 1, 0, 0]\n",
      "[0, 0, 1, 1]\n",
      "[0, 1, 1, 0]\n",
      "[0, 0, 0, 0]\n",
      "\n",
      "[0, 0, 1, 0]\n",
      "[0, 0, 0, 1]\n",
      "[0, 1, 1, 1]\n",
      "[0, 0, 0, 0]\n",
      "\n",
      "[0, 0, 0, 0]\n",
      "[0, 1, 0, 1]\n",
      "[0, 0, 1, 1]\n",
      "[0, 0, 1, 0]\n",
      "\n",
      "[0, 0, 0, 0]\n",
      "[0, 0, 0, 1]\n",
      "[0, 1, 0, 1]\n",
      "[0, 0, 1, 1]\n",
      "\n"
     ]
    }
   ],
   "source": [
    "for i in range(4):\n",
    "  iterate(Z)\n",
    "  show(Z)"
   ]
  },
  {
   "cell_type": "code",
   "execution_count": 8,
   "metadata": {
    "collapsed": false
   },
   "outputs": [
    {
     "name": "stdout",
     "output_type": "stream",
     "text": [
      "10000 loops, best of 3: 29.6 µs per loop\n"
     ]
    }
   ],
   "source": [
    "%timeit iterate(Z)"
   ]
  },
  {
   "cell_type": "code",
   "execution_count": 9,
   "metadata": {
    "collapsed": true
   },
   "outputs": [],
   "source": [
    "# The way of numpy"
   ]
  },
  {
   "cell_type": "code",
   "execution_count": 10,
   "metadata": {
    "collapsed": true
   },
   "outputs": [],
   "source": [
    "Z = np.array([[0,0,0,0,0,0],\n",
    "     [0,0,0,1,0,0],\n",
    "     [0,1,0,1,0,0],\n",
    "     [0,0,1,1,0,0],\n",
    "     [0,0,0,0,0,0],\n",
    "     [0,0,0,0,0,0]])"
   ]
  },
  {
   "cell_type": "code",
   "execution_count": 11,
   "metadata": {
    "collapsed": false
   },
   "outputs": [
    {
     "name": "stdout",
     "output_type": "stream",
     "text": [
      "[[0 0 1 0]\n",
      " [1 0 1 0]\n",
      " [0 1 1 0]\n",
      " [0 0 0 0]]\n"
     ]
    }
   ],
   "source": [
    "print(Z[1:-1,1:-1])"
   ]
  },
  {
   "cell_type": "code",
   "execution_count": 12,
   "metadata": {
    "collapsed": true
   },
   "outputs": [],
   "source": [
    "A = Z[1:-1,1:-1]"
   ]
  },
  {
   "cell_type": "code",
   "execution_count": 13,
   "metadata": {
    "collapsed": false
   },
   "outputs": [
    {
     "data": {
      "text/plain": [
       "True"
      ]
     },
     "execution_count": 13,
     "metadata": {},
     "output_type": "execute_result"
    }
   ],
   "source": [
    "A.base is Z"
   ]
  },
  {
   "cell_type": "code",
   "execution_count": 14,
   "metadata": {
    "collapsed": false
   },
   "outputs": [],
   "source": [
    "N = np.zeros(Z.shape,dtype=int)\n",
    "N[1:-1,1:-1] = (Z[ :-2, :-2] + Z[ :-2,1:-1] + Z[ :-2,2:] +\n",
    "                Z[1:-1, :-2]                + Z[1:-1,2:] +\n",
    "                Z[2:  , :-2] + Z[2:  ,1:-1] + Z[2:  ,2:])"
   ]
  },
  {
   "cell_type": "code",
   "execution_count": 15,
   "metadata": {
    "collapsed": false
   },
   "outputs": [
    {
     "data": {
      "text/plain": [
       "array([[0, 0, 0, 0, 0, 0],\n",
       "       [0, 1, 3, 1, 2, 0],\n",
       "       [0, 1, 5, 3, 3, 0],\n",
       "       [0, 2, 3, 2, 2, 0],\n",
       "       [0, 1, 2, 2, 1, 0],\n",
       "       [0, 0, 0, 0, 0, 0]])"
      ]
     },
     "execution_count": 15,
     "metadata": {},
     "output_type": "execute_result"
    }
   ],
   "source": [
    "N"
   ]
  },
  {
   "cell_type": "code",
   "execution_count": 16,
   "metadata": {
    "collapsed": true
   },
   "outputs": [],
   "source": [
    "def naive_iterate(Z):\n",
    "    # Iterate the game of life : naive version\n",
    "    N = np.zeros(Z.shape,dtype=int)\n",
    "    N[1:-1,1:-1] = (Z[ :-2, :-2] + Z[ :-2,1:-1] + Z[ :-2,2:] +\n",
    "                    Z[1:-1, :-2]                + Z[1:-1,2:] +\n",
    "                    Z[2:  , :-2] + Z[2:  ,1:-1] + Z[2:  ,2:])\n",
    "    \n",
    "    N_ = N.ravel()\n",
    "    Z_ = Z.ravel()\n",
    "    \n",
    "    # Apply rules\n",
    "    R1 = np.argwhere( Z_ == 1 & N_ < 2)\n",
    "    R2 = np.argwhere( Z_ == 1 & N_ > 3)\n",
    "    R3 = np.argwhere( Z_ == 1 & (N_ == 2 | N_ == 3))\n",
    "    R4 = np.argwhere( Z_ == 0 & N_ == 3)\n",
    "    \n",
    "    # Set new values\n",
    "    Z_[R1] = 0\n",
    "    Z_[R2] = 0\n",
    "    Z_[R3] = Z_[R3]\n",
    "    Z_[R4] = 1\n",
    "    \n",
    "    # Make sure borders stay null\n",
    "    Z[0,:] = Z[-1,:] = Z[:,0] = Z[:,-1] = 0\n",
    "                     "
   ]
  },
  {
   "cell_type": "code",
   "execution_count": 17,
   "metadata": {
    "collapsed": false
   },
   "outputs": [],
   "source": [
    "def faster_iterate(Z):\n",
    "    # Count neighbours\n",
    "    N = (Z[0:-2,0:-2] + Z[0:-2,1:-1] + Z[0:-2,2:] +\n",
    "         Z[1:-1,0:-2]                + Z[1:-1,2:] +\n",
    "         Z[2:  ,0:-2] + Z[2:  ,1:-1] + Z[2:  ,2:])\n",
    "    \n",
    "    # Apply rules\n",
    "    birth = (N==3) & (Z[1:-1,1:-1] == 0)\n",
    "    survive = ((N==2) | (N==3)) & (Z[1:-1,1:-1] == 1)\n",
    "    Z[...] = 0\n",
    "    Z[1:-1,1:-1][birth | survive] = 1\n",
    "    return Z"
   ]
  },
  {
   "cell_type": "code",
   "execution_count": 18,
   "metadata": {
    "collapsed": false
   },
   "outputs": [
    {
     "name": "stdout",
     "output_type": "stream",
     "text": [
      "[[0 0 1 0]\n",
      " [1 0 1 0]\n",
      " [0 1 1 0]\n",
      " [0 0 0 0]]\n"
     ]
    }
   ],
   "source": [
    "print(A)"
   ]
  },
  {
   "cell_type": "code",
   "execution_count": 19,
   "metadata": {
    "collapsed": false
   },
   "outputs": [
    {
     "name": "stdout",
     "output_type": "stream",
     "text": [
      "Step:  1\n",
      "[[0 1 0 0]\n",
      " [0 0 1 1]\n",
      " [0 1 1 0]\n",
      " [0 0 0 0]]\n",
      "Step:  2\n",
      "[[0 0 1 0]\n",
      " [0 0 0 1]\n",
      " [0 1 1 1]\n",
      " [0 0 0 0]]\n",
      "Step:  3\n",
      "[[0 0 0 0]\n",
      " [0 1 0 1]\n",
      " [0 0 1 1]\n",
      " [0 0 1 0]]\n",
      "Step:  4\n",
      "[[0 0 0 0]\n",
      " [0 0 0 1]\n",
      " [0 1 0 1]\n",
      " [0 0 1 1]]\n"
     ]
    }
   ],
   "source": [
    "for i in range(4):\n",
    "    faster_iterate(Z)\n",
    "    print(\"Step: \",i+1)\n",
    "    print(A)"
   ]
  },
  {
   "cell_type": "code",
   "execution_count": 20,
   "metadata": {
    "collapsed": true
   },
   "outputs": [],
   "source": [
    "# Getting Bigger"
   ]
  },
  {
   "cell_type": "code",
   "execution_count": 21,
   "metadata": {
    "collapsed": false
   },
   "outputs": [],
   "source": [
    "Z = np.random.randint(0,2,(256,512))"
   ]
  },
  {
   "cell_type": "code",
   "execution_count": 22,
   "metadata": {
    "collapsed": false
   },
   "outputs": [
    {
     "data": {
      "image/png": "[encoded data removed]",
      "text/plain": [
       "<matplotlib.figure.Figure at 0x7f7912236668>"
      ]
     },
     "metadata": {},
     "output_type": "display_data"
    }
   ],
   "source": [
    "for i in range(100): faster_iterate(Z)\n",
    "size = np.array(Z.shape)\n",
    "dpi = 72.0\n",
    "figsize = size[1]/float(dpi), size[0]/float(dpi)\n",
    "fig = plt.figure(figsize=figsize, dpi=dpi, facecolor='white')\n",
    "fig.add_axes([0.0,0.0,1.0,1.0])\n",
    "plt.imshow(Z, interpolation='nearest', cmap = plt.cm.gray_r)\n",
    "plt.xticks([]), plt.yticks([])\n",
    "plt.show()"
   ]
  },
  {
   "cell_type": "code",
   "execution_count": null,
   "metadata": {
    "collapsed": false
   },
   "outputs": [],
   "source": []
  },
  {
   "cell_type": "code",
   "execution_count": 23,
   "metadata": {
    "collapsed": false
   },
   "outputs": [],
   "source": [
    "# A step further"
   ]
  },
  {
   "cell_type": "code",
   "execution_count": 24,
   "metadata": {
    "collapsed": false
   },
   "outputs": [
    {
     "name": "stderr",
     "output_type": "stream",
     "text": [
      "/home/altock/anaconda3/envs/py35/lib/python3.5/site-packages/ipykernel/__main__.py:28: VisibleDeprecationWarning: using a non-integer number instead of an integer will result in an error in the future\n",
      "/home/altock/anaconda3/envs/py35/lib/python3.5/site-packages/ipykernel/__main__.py:29: VisibleDeprecationWarning: using a non-integer number instead of an integer will result in an error in the future\n"
     ]
    },
    {
     "data": {
      "image/png": "[encoded data removed]",
      "text/plain": [
       "<matplotlib.figure.Figure at 0x7f7912245470>"
      ]
     },
     "metadata": {},
     "output_type": "display_data"
    }
   ],
   "source": [
    "# TODO: WTF\n",
    "import numpy as np\n",
    "import matplotlib.pyplot as plt\n",
    "\n",
    "\n",
    "# Parameters from http://www.aliensaint.com/uo/java/rd/\n",
    "# -----------------------------------------------------\n",
    "n  = 200\n",
    "Du, Dv, F, k = 0.16, 0.08, 0.035, 0.065 # Bacteria 1\n",
    "# Du, Dv, F, k = 0.14, 0.06, 0.035, 0.065 # Bacteria 2\n",
    "# Du, Dv, F, k = 0.16, 0.08, 0.060, 0.062 # Coral\n",
    "# Du, Dv, F, k = 0.19, 0.05, 0.060, 0.062 # Fingerprint\n",
    "# Du, Dv, F, k = 0.10, 0.10, 0.018, 0.050 # Spirals\n",
    "# Du, Dv, F, k = 0.12, 0.08, 0.020, 0.050 # Spirals Dense\n",
    "# Du, Dv, F, k = 0.10, 0.16, 0.020, 0.050 # Spirals Fast\n",
    "# Du, Dv, F, k = 0.16, 0.08, 0.020, 0.055 # Unstable\n",
    "# Du, Dv, F, k = 0.16, 0.08, 0.050, 0.065 # Worms 1\n",
    "# Du, Dv, F, k = 0.16, 0.08, 0.054, 0.063 # Worms 2\n",
    "# Du, Dv, F, k = 0.16, 0.08, 0.035, 0.060 # Zebrafish\n",
    "\n",
    "\n",
    "Z = np.zeros((n+2,n+2), [('U', np.double), ('V', np.double)])\n",
    "U,V = Z['U'], Z['V']\n",
    "u,v = U[1:-1,1:-1], V[1:-1,1:-1]\n",
    "\n",
    "r = 20\n",
    "u[...] = 1.0\n",
    "U[n/2-r:n/2+r,n/2-r:n/2+r] = 0.50\n",
    "V[n/2-r:n/2+r,n/2-r:n/2+r] = 0.25\n",
    "u += 0.05*np.random.random((n,n))\n",
    "v += 0.05*np.random.random((n,n))\n",
    "\n",
    "\n",
    "plt.ion()\n",
    "\n",
    "size = np.array(Z.shape)\n",
    "dpi = 72.0\n",
    "figsize= size[1]/float(dpi),size[0]/float(dpi)\n",
    "fig = plt.figure(figsize=figsize, dpi=dpi, facecolor=\"white\")\n",
    "fig.add_axes([0.0, 0.0, 1.0, 1.0], frameon=False)\n",
    "im = plt.imshow(V, interpolation='bicubic', cmap=plt.cm.gray_r)\n",
    "plt.xticks([]), plt.yticks([])\n",
    "\n",
    "\n",
    "for i in range(25000):\n",
    "    Lu = (                 U[0:-2,1:-1] +\n",
    "          U[1:-1,0:-2] - 4*U[1:-1,1:-1] + U[1:-1,2:] +\n",
    "                           U[2:  ,1:-1] )\n",
    "    Lv = (                 V[0:-2,1:-1] +\n",
    "          V[1:-1,0:-2] - 4*V[1:-1,1:-1] + V[1:-1,2:] +\n",
    "                           V[2:  ,1:-1] )\n",
    "\n",
    "    uvv = u*v*v\n",
    "    u += (Du*Lu - uvv +  F   *(1-u))\n",
    "    v += (Dv*Lv + uvv - (F+k)*v    )\n",
    "\n",
    "    if i % 10 == 0:\n",
    "        im.set_data(V)\n",
    "        im.set_clim(vmin=V.min(), vmax=V.max())\n",
    "        plt.draw()\n",
    "        # To make movie\n",
    "        # plt.savefig(\"./tmp/tmp-%03d.png\" % (i/10) ,dpi=dpi)\n",
    "\n",
    "plt.ioff()\n",
    "# plt.savefig(\"../figures/zebra.png\",dpi=dpi)\n",
    "# plt.savefig(\"../figures/bacteria.png\",dpi=dpi)\n",
    "# plt.savefig(\"../figures/fingerprint.png\",dpi=dpi)\n",
    "plt.show()"
   ]
  },
  {
   "cell_type": "code",
   "execution_count": 25,
   "metadata": {
    "collapsed": false
   },
   "outputs": [
    {
     "name": "stdout",
     "output_type": "stream",
     "text": [
      "[('U', '<f8'), ('V', '<f8')]\n"
     ]
    }
   ],
   "source": [
    "n = 200\n",
    "Z = np.zeros((n+2,n+2), [('U', np.double),('V', np.double)])\n",
    "print(Z.dtype)"
   ]
  },
  {
   "cell_type": "code",
   "execution_count": 26,
   "metadata": {
    "collapsed": true
   },
   "outputs": [],
   "source": [
    "U,V = Z['U'], Z['V']\n",
    "u,v = U[1:-1,1:-1], V[1:-1,1:-1]"
   ]
  },
  {
   "cell_type": "code",
   "execution_count": 27,
   "metadata": {
    "collapsed": true
   },
   "outputs": [],
   "source": [
    "def laplacian(Z):\n",
    "    return (                 Z[0:-2,1:-1] +\n",
    "            Z[1:-1,0:-2] - 4*Z[1:-1,1:-1] + Z[1:-1,2:] +\n",
    "                             Z[2:  ,1:-1] )"
   ]
  },
  {
   "cell_type": "code",
   "execution_count": 28,
   "metadata": {
    "collapsed": false
   },
   "outputs": [
    {
     "ename": "NameError",
     "evalue": "name 'xrange' is not defined",
     "output_type": "error",
     "traceback": [
      "\u001b[0;31m---------------------------------------------------------------------------\u001b[0m",
      "\u001b[0;31mNameError\u001b[0m                                 Traceback (most recent call last)",
      "\u001b[0;32m<ipython-input-28-200b1f44818c>\u001b[0m in \u001b[0;36m<module>\u001b[0;34m()\u001b[0m\n\u001b[0;32m----> 1\u001b[0;31m \u001b[0;32mfor\u001b[0m \u001b[0mi\u001b[0m \u001b[0;32min\u001b[0m \u001b[0mxrange\u001b[0m\u001b[0;34m(\u001b[0m\u001b[0;36m25000\u001b[0m\u001b[0;34m)\u001b[0m\u001b[0;34m:\u001b[0m\u001b[0;34m\u001b[0m\u001b[0m\n\u001b[0m\u001b[1;32m      2\u001b[0m     \u001b[0mLu\u001b[0m \u001b[0;34m=\u001b[0m \u001b[0mlaplacian\u001b[0m\u001b[0;34m(\u001b[0m\u001b[0mU\u001b[0m\u001b[0;34m)\u001b[0m\u001b[0;34m\u001b[0m\u001b[0m\n\u001b[1;32m      3\u001b[0m     \u001b[0mLv\u001b[0m \u001b[0;34m=\u001b[0m \u001b[0mlaplacian\u001b[0m\u001b[0;34m(\u001b[0m\u001b[0mV\u001b[0m\u001b[0;34m)\u001b[0m\u001b[0;34m\u001b[0m\u001b[0m\n\u001b[1;32m      4\u001b[0m     \u001b[0muvv\u001b[0m \u001b[0;34m=\u001b[0m \u001b[0mu\u001b[0m\u001b[0;34m*\u001b[0m\u001b[0mv\u001b[0m\u001b[0;34m*\u001b[0m\u001b[0mv\u001b[0m\u001b[0;34m\u001b[0m\u001b[0m\n\u001b[1;32m      5\u001b[0m     \u001b[0mu\u001b[0m \u001b[0;34m+=\u001b[0m \u001b[0;34m(\u001b[0m\u001b[0mDu\u001b[0m\u001b[0;34m*\u001b[0m\u001b[0mLu\u001b[0m \u001b[0;34m-\u001b[0m \u001b[0muvv\u001b[0m \u001b[0;34m+\u001b[0m  \u001b[0mF\u001b[0m   \u001b[0;34m*\u001b[0m\u001b[0;34m(\u001b[0m\u001b[0;36m1\u001b[0m\u001b[0;34m-\u001b[0m\u001b[0mu\u001b[0m\u001b[0;34m)\u001b[0m\u001b[0;34m)\u001b[0m\u001b[0;34m\u001b[0m\u001b[0m\n",
      "\u001b[0;31mNameError\u001b[0m: name 'xrange' is not defined"
     ]
    }
   ],
   "source": [
    "for i in xrange(25000):\n",
    "    Lu = laplacian(U)\n",
    "    Lv = laplacian(V)\n",
    "    uvv = u*v*v\n",
    "    u += (Du*Lu - uvv +  F   *(1-u))\n",
    "    v += (Dv*Lv + uvv - (F+k)*v    )"
   ]
  },
  {
   "cell_type": "code",
   "execution_count": null,
   "metadata": {
    "collapsed": false
   },
   "outputs": [],
   "source": [
    "# Neophyte\n",
    "# 1\n",
    "# import numpy as np\n",
    "\n",
    "# 2\n",
    "print(np.__version__)\n",
    "print(np.__config__.show())"
   ]
  },
  {
   "cell_type": "markdown",
   "metadata": {},
   "source": [
    "# 3\n",
    "np.zeros(10)"
   ]
  },
  {
   "cell_type": "code",
   "execution_count": null,
   "metadata": {
    "collapsed": false
   },
   "outputs": [],
   "source": [
    "# 4\n",
    "z = np.zeros(10)\n",
    "z[4] = 1"
   ]
  },
  {
   "cell_type": "code",
   "execution_count": null,
   "metadata": {
    "collapsed": false
   },
   "outputs": [],
   "source": [
    "# 5\n",
    "z = np.arange(10,99)"
   ]
  },
  {
   "cell_type": "code",
   "execution_count": null,
   "metadata": {
    "collapsed": false
   },
   "outputs": [],
   "source": [
    "# 6\n",
    "z = np.arange(9).reshape((3,3))\n",
    "z"
   ]
  },
  {
   "cell_type": "code",
   "execution_count": null,
   "metadata": {
    "collapsed": false
   },
   "outputs": [],
   "source": [
    "# 7 \n",
    "x = [1,2,0,0,4,0]\n",
    "np.nonzero(x)"
   ]
  },
  {
   "cell_type": "code",
   "execution_count": null,
   "metadata": {
    "collapsed": false
   },
   "outputs": [],
   "source": [
    "# 8\n",
    "y = np.eye(3)"
   ]
  },
  {
   "cell_type": "code",
   "execution_count": null,
   "metadata": {
    "collapsed": false
   },
   "outputs": [],
   "source": [
    "# 9\n",
    "np.diag(np.arange(1,5),k=-1)"
   ]
  },
  {
   "cell_type": "code",
   "execution_count": null,
   "metadata": {
    "collapsed": false
   },
   "outputs": [],
   "source": [
    "Z = np.random.rand(10,10,10)\n",
    "Z.shape"
   ]
  },
  {
   "cell_type": "code",
   "execution_count": null,
   "metadata": {
    "collapsed": false
   },
   "outputs": [],
   "source": [
    "# Novice\n",
    "# 1\n",
    "x = np.zeros((8,8))\n",
    "x[::2,::2] = 1\n",
    "x[1::2,1::2] = 1\n",
    "x"
   ]
  },
  {
   "cell_type": "code",
   "execution_count": null,
   "metadata": {
    "collapsed": false
   },
   "outputs": [],
   "source": [
    "# 2\n",
    "x = np.random.rand(10,10)\n",
    "print(np.min(x), np.max(x))"
   ]
  },
  {
   "cell_type": "code",
   "execution_count": null,
   "metadata": {
    "collapsed": false
   },
   "outputs": [],
   "source": [
    "print(x.min(), x.max())"
   ]
  },
  {
   "cell_type": "code",
   "execution_count": null,
   "metadata": {
    "collapsed": false
   },
   "outputs": [],
   "source": [
    "# 3\n",
    "np.tile([[0,1],[1,0]],(4,4))"
   ]
  },
  {
   "cell_type": "code",
   "execution_count": null,
   "metadata": {
    "collapsed": false
   },
   "outputs": [],
   "source": [
    "# 4\n",
    "z = np.random.randn(5,5)\n",
    "z_max, z_min = z.max(), z.min()\n",
    "z_ = (z - z_min)/ (z_max - z_min)\n",
    "z_"
   ]
  },
  {
   "cell_type": "code",
   "execution_count": null,
   "metadata": {
    "collapsed": false
   },
   "outputs": [],
   "source": [
    "# 5\n",
    "np.matmul(np.random.rand(5,3), np.random.rand(3,2))\n",
    "# print(np.dot(np.ones((5,3)), np.ones((3,2))))"
   ]
  },
  {
   "cell_type": "code",
   "execution_count": null,
   "metadata": {
    "collapsed": false
   },
   "outputs": [],
   "source": [
    "# 6\n",
    "np.tile(np.arange(10),(10,1))"
   ]
  },
  {
   "cell_type": "code",
   "execution_count": null,
   "metadata": {
    "collapsed": false
   },
   "outputs": [],
   "source": [
    "# 7 \n",
    "np.arange(1,1001) / 1001 \n",
    "# np.linspace(0,1,1002,endpoint=True)[1:-1]\n"
   ]
  },
  {
   "cell_type": "code",
   "execution_count": null,
   "metadata": {
    "collapsed": false
   },
   "outputs": [],
   "source": [
    "# 8\n",
    "sorted(np.random.rand(100))"
   ]
  },
  {
   "cell_type": "code",
   "execution_count": null,
   "metadata": {
    "collapsed": false
   },
   "outputs": [],
   "source": [
    "# 9\n",
    "np.allclose(np.random.rand(5,5),np.random.rand(5,5))"
   ]
  },
  {
   "cell_type": "code",
   "execution_count": null,
   "metadata": {
    "collapsed": false
   },
   "outputs": [],
   "source": [
    "# 10\n",
    "np.random.rand(1000).mean()"
   ]
  },
  {
   "cell_type": "code",
   "execution_count": null,
   "metadata": {
    "collapsed": true
   },
   "outputs": [],
   "source": [
    "# Apprentice"
   ]
  },
  {
   "cell_type": "code",
   "execution_count": null,
   "metadata": {
    "collapsed": true
   },
   "outputs": [],
   "source": [
    "# 1"
   ]
  }
 ],
 "metadata": {
  "anaconda-cloud": {},
  "kernelspec": {
   "display_name": "Python 3",
   "language": "python",
   "name": "python3"
  },
  "language_info": {
   "codemirror_mode": {
    "name": "ipython",
    "version": 3
   },
   "file_extension": ".py",
   "mimetype": "text/x-python",
   "name": "python",
   "nbconvert_exporter": "python",
   "pygments_lexer": "ipython3",
   "version": "3.5.2"
  }
 },
 "nbformat": 4,
 "nbformat_minor": 1
}

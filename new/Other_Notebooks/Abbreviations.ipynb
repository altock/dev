{
 "cells": [
  {
   "cell_type": "code",
   "execution_count": 1,
   "metadata": {
    "collapsed": true
   },
   "outputs": [],
   "source": [
    "import numpy as np\n",
    "import pandas as pd\n",
    "from sklearn import preprocessing, cross_validation, svm\n",
    "\n",
    "import matplotlib.pyplot as plt\n",
    "from matplotlib import style\n",
    "style.use('fivethirtyeight')\n",
    "%matplotlib inline"
   ]
  },
  {
   "cell_type": "code",
   "execution_count": 2,
   "metadata": {
    "collapsed": true
   },
   "outputs": [],
   "source": [
    "# q = int(input())\n",
    "# for _ in range(q):\n",
    "#     a = input()\n",
    "#     b = input()"
   ]
  },
  {
   "cell_type": "code",
   "execution_count": 8,
   "metadata": {
    "collapsed": false
   },
   "outputs": [],
   "source": [
    "def possible(a,b):\n",
    "    a = list(a)\n",
    "    b = list(b)\n",
    "    j = 0\n",
    "    noCaps = [(i,z) for i,z in enumerate(a) if z.upper() == z]\n",
    "    k = 0\n",
    "    while k < len(noCaps):\n",
    "        i,z = noCaps[k]\n",
    "        print(k)\n",
    "        if j >= len(b):\n",
    "            print(\"NO1\", len(b))\n",
    "            return\n",
    "        elif z == b[j]:\n",
    "            j += 1\n",
    "            k += 1\n",
    "        elif k == 0:\n",
    "            if b[j].lower() in a[0:i]:\n",
    "                j+= 1\n",
    "                continue\n",
    "            else:\n",
    "                print(\"NO2\")\n",
    "                return\n",
    "        elif b[j].lower() in a[noCaps[k-1][0]:i]:\n",
    "                j+= 1\n",
    "                noCaps[k-1]= (i + a[noCaps[k-1][0]:i].index(b[j].lower()),noCaps[k-1][1])\n",
    "                continue\n",
    "        \n",
    "                \n",
    "    if j== len(b):\n",
    "        print(\"YES\")\n",
    "    else:\n",
    "        print(\"NO3\")"
   ]
  },
  {
   "cell_type": "code",
   "execution_count": 4,
   "metadata": {
    "collapsed": false
   },
   "outputs": [
    {
     "name": "stdout",
     "output_type": "stream",
     "text": [
      "0\n",
      "1\n",
      "NO1 1\n"
     ]
    }
   ],
   "source": [
    "possible('AAA','A')"
   ]
  },
  {
   "cell_type": "code",
   "execution_count": 5,
   "metadata": {
    "collapsed": false
   },
   "outputs": [
    {
     "name": "stdout",
     "output_type": "stream",
     "text": [
      "0\n",
      "1\n",
      "NO1 1\n"
     ]
    }
   ],
   "source": [
    "possible('AA','A') # NO, too many capitals"
   ]
  },
  {
   "cell_type": "code",
   "execution_count": 6,
   "metadata": {
    "collapsed": false
   },
   "outputs": [
    {
     "name": "stdout",
     "output_type": "stream",
     "text": [
      "0\n",
      "YES\n"
     ]
    }
   ],
   "source": [
    "possible('aA','A') # YES, can drop"
   ]
  },
  {
   "cell_type": "code",
   "execution_count": 7,
   "metadata": {
    "collapsed": false
   },
   "outputs": [
    {
     "name": "stdout",
     "output_type": "stream",
     "text": [
      "0\n",
      "1\n",
      "1\n",
      "1\n",
      "YES\n"
     ]
    }
   ],
   "source": [
    "possible('AcbA','ABCA')"
   ]
  },
  {
   "cell_type": "code",
   "execution_count": null,
   "metadata": {
    "collapsed": true
   },
   "outputs": [],
   "source": [
    ""
   ]
  }
 ],
 "metadata": {
  "kernelspec": {
   "display_name": "Python 3",
   "language": "python",
   "name": "python3"
  },
  "language_info": {
   "codemirror_mode": {
    "name": "ipython",
    "version": 3.0
   },
   "file_extension": ".py",
   "mimetype": "text/x-python",
   "name": "python",
   "nbconvert_exporter": "python",
   "pygments_lexer": "ipython3",
   "version": "3.5.2"
  }
 },
 "nbformat": 4,
 "nbformat_minor": 0
}